{
 "cells": [
  {
   "cell_type": "code",
   "execution_count": 6,
   "id": "175672ef",
   "metadata": {},
   "outputs": [],
   "source": [
    "words = open('valid-wordle-words.txt', 'r').read()\n",
    "\n",
    "words = words.split('\\n')\n",
    "\n",
    "words = words[:-1]\n",
    "complete_words = words.copy()"
   ]
  },
  {
   "cell_type": "code",
   "execution_count": null,
   "id": "afaeef3f",
   "metadata": {},
   "outputs": [],
   "source": [
    "from collections import Counter\n",
    "\n",
    "yellows = []\n",
    "greens = []\n",
    "blacks = []\n",
    "\n",
    "while True:\n",
    "    # Recompute character frequencies after filtering\n",
    "    chars = [0] * 26\n",
    "    for word in words:\n",
    "        for c in word:\n",
    "            if any(gc == c for _, gc in greens) or any(yc == c for _, yc in yellows):\n",
    "                continue\n",
    "            chars[ord(c) - ord('a')] += 1\n",
    "\n",
    "    # Guess the word based on most frequent letters\n",
    "    letters = 7\n",
    "    guess_words = []\n",
    "    while True:\n",
    "        scored = list(enumerate(chars))\n",
    "        top = sorted(scored, key=lambda x: x[1], reverse=True)[:letters]\n",
    "        top_letters = [chr(i + ord('a')) for i, _ in top]\n",
    "\n",
    "        for word in complete_words:\n",
    "            score = sum(word.count(c) for c in top_letters)\n",
    "            if score >= 5:\n",
    "                guess_words.append((word, len(set(word))))\n",
    "            \n",
    "        if len(guess_words) >= 1:\n",
    "            break\n",
    "        else:\n",
    "            letters += 1\n",
    "\n",
    "    guess_word = max(guess_words, key=lambda x:x[1])[0]\n",
    "    print(f\"Guess: {guess_word}\")\n",
    "\n",
    "    # Get feedback input (e.g. \"gybbb\")\n",
    "    inp = input(\"Enter colors: \").strip().lower()\n",
    "    if len(inp) != 5:\n",
    "        print(\"Input must be 5 characters long.\")\n",
    "        continue\n",
    "\n",
    "    for i, c in enumerate(inp):\n",
    "        if c == 'g':\n",
    "            if (i, guess_word[i]) not in greens:\n",
    "                greens.append((i, guess_word[i]))\n",
    "        elif c == 'y':\n",
    "            if (i, guess_word[i]) not in yellows:\n",
    "                yellows.append((i, guess_word[i]))\n",
    "        elif c == 'b':\n",
    "            blacks.append(guess_word[i])\n",
    "\n",
    "    # === Green filtering ===\n",
    "    words_new = []\n",
    "    for word in words:\n",
    "        if all(word[i] == c for i, c in greens):\n",
    "            words_new.append(word)\n",
    "    words = words_new\n",
    "    print(f\"After green filter: {len(words)}\")\n",
    "\n",
    "    # === Yellow filtering ===\n",
    "    words_new = []\n",
    "    for word in words:\n",
    "        valid = True\n",
    "        for i, c in yellows:\n",
    "            if c not in word or word[i] == c:\n",
    "                valid = False\n",
    "                break\n",
    "        if valid:\n",
    "            words_new.append(word)\n",
    "    words = words_new\n",
    "    print(f\"After yellow filter: {len(words)}\")\n",
    "\n",
    "    # === Black filtering with count checks ===\n",
    "    allowed_counts = Counter(c for _, c in greens + yellows)\n",
    "    words_new = []\n",
    "    for word in words:\n",
    "        wc = Counter(word)\n",
    "        if any(wc[c] > allowed_counts.get(c, 0) for c in blacks):\n",
    "            continue\n",
    "        words_new.append(word)\n",
    "    words = words_new\n",
    "    print(f\"After black filter: {len(words)}\")\n",
    "\n",
    "    # Check if one solution remains\n",
    "    if len(words) == 1:\n",
    "        print(f\"The word is: {words[0]}\")\n",
    "        break\n",
    "    elif len(words) == 0:\n",
    "        print(\"No valid words left. Check your inputs.\")\n",
    "        break\n"
   ]
  },
  {
   "cell_type": "code",
   "execution_count": 3,
   "id": "f2e0bf5d",
   "metadata": {},
   "outputs": [
    {
     "data": {
      "text/plain": [
       "[1, 2]"
      ]
     },
     "execution_count": 3,
     "metadata": {},
     "output_type": "execute_result"
    }
   ],
   "source": [
    "arr = [1,2]\n",
    "\n",
    "arr[:3]"
   ]
  }
 ],
 "metadata": {
  "kernelspec": {
   "display_name": "zirtle",
   "language": "python",
   "name": "python3"
  },
  "language_info": {
   "codemirror_mode": {
    "name": "ipython",
    "version": 3
   },
   "file_extension": ".py",
   "mimetype": "text/x-python",
   "name": "python",
   "nbconvert_exporter": "python",
   "pygments_lexer": "ipython3",
   "version": "3.12.3"
  }
 },
 "nbformat": 4,
 "nbformat_minor": 5
}
